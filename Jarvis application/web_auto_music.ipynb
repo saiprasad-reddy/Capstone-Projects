{
 "cells": [
  {
   "cell_type": "code",
   "execution_count": 3,
   "metadata": {},
   "outputs": [],
   "source": [
    "from selenium import webdriver\n",
    "\n",
    "#class to see the information\n",
    "class music():\n",
    "    def __init__(self):\n",
    "        self.driver = webdriver.Chrome(executable_path= 'C:/Users/saipr/Downloads/chromedriver_win32/chromedriver.exe')\n",
    "    \n",
    "    def play(self, name):\n",
    "        self.name = name\n",
    "        self.driver.get(url = \"https://www.youtube.com/results?search_query=\" + name)\n",
    "        search = self.driver.find_element_by_xpath('//*[@id=\"dismissable\"]')\n",
    "        search.click()\n",
    "        \n",
    "\n",
    "#bot = music()\n",
    "#bot.play(\"you are my bad i am your bad girl\")"
   ]
  },
  {
   "cell_type": "code",
   "execution_count": null,
   "metadata": {},
   "outputs": [],
   "source": []
  }
 ],
 "metadata": {
  "kernelspec": {
   "display_name": "Python 3",
   "language": "python",
   "name": "python3"
  },
  "language_info": {
   "codemirror_mode": {
    "name": "ipython",
    "version": 3
   },
   "file_extension": ".py",
   "mimetype": "text/x-python",
   "name": "python",
   "nbconvert_exporter": "python",
   "pygments_lexer": "ipython3",
   "version": "3.8.3"
  }
 },
 "nbformat": 4,
 "nbformat_minor": 4
}
