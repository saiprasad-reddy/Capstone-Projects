{
 "cells": [
  {
   "cell_type": "code",
   "execution_count": null,
   "metadata": {},
   "outputs": [],
   "source": [
    "from selenium import webdriver\n",
    "import pyttsx3 as p\n",
    "\n",
    "#class to see the information\n",
    "class info():\n",
    "    def __init__(self):\n",
    "        self.driver = webdriver.Chrome(executable_path= 'C:/Users/saipr/Downloads/chromedriver_win32/chromedriver.exe')\n",
    "    \n",
    "    def get_info(self, query):\n",
    "        self.query = query\n",
    "        self.driver.get(url = \"https://www.wikipedia.org/\")\n",
    "        search = self.driver.find_element_by_xpath('//*[@id=\"searchInput\"]')\n",
    "        search.click()\n",
    "        search.send_keys(query)\n",
    "        \n",
    "        enter = self.driver.find_element_by_xpath('//*[@id=\"search-form\"]/fieldset/button/i')\n",
    "        enter.click()\n",
    "        \n",
    "        #the definition the chat bot can read\n",
    "        info = self.driver.find_element_by_xpath('//*[@id=\"mw-content-text\"]/div[1]/p[2]')\n",
    "        readable_text = info.text\n",
    "        engine = p.init()\n",
    "        engine.say(readable_text)\n",
    "        engine.runAndWait()\n",
    "\n",
    "\n",
    "#bot = info()\n",
    "#bot.get_info(\"liberty bell\")"
   ]
  },
  {
   "cell_type": "code",
   "execution_count": null,
   "metadata": {},
   "outputs": [],
   "source": []
  }
 ],
 "metadata": {
  "kernelspec": {
   "display_name": "Python 3",
   "language": "python",
   "name": "python3"
  },
  "language_info": {
   "codemirror_mode": {
    "name": "ipython",
    "version": 3
   },
   "file_extension": ".py",
   "mimetype": "text/x-python",
   "name": "python",
   "nbconvert_exporter": "python",
   "pygments_lexer": "ipython3",
   "version": "3.8.3"
  }
 },
 "nbformat": 4,
 "nbformat_minor": 4
}
